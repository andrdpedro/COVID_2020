version https://git-lfs.github.com/spec/v1
oid sha256:7c70e9cca34c0352471f1a0441e59dc4e4edd4dcc9c3af391c0eff64b77ea7ea
size 320577451
